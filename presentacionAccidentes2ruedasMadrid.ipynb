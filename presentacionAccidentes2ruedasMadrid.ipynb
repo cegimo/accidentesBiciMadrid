{
 "cells": [
  {
   "cell_type": "markdown",
   "metadata": {},
   "source": [
    "# Accidentes de tráfico con implicación de bicicletas\n",
    "<b>César Gil Moreno</b><br><br>\n",
    "El dataset analizado contiene accidentes de tráfico en la Ciudad de Madrid registrados por Policía Municipal desde 01/01/2010 hasta 29/12/2018, donde está implicada al menos una bicicleta y se encuentra disponible en el siguiente [enlace](https://datos.madrid.es/portal/site/egob/menuitem.c05c1f754a33a9fbe4b2e4b284f1a5a0/?vgnextoid=20f4a87ebb65b510VgnVCM1000001d4a900aRCRD&vgnextchannel=374512b9ace9f310VgnVCM100000171f5a0aRCRD&vgnextfmt=default)<br>\n",
    "\n"
   ]
  },
  {
   "cell_type": "markdown",
   "metadata": {},
   "source": [
    "## DATOS DEL DATASET\n",
    "\n",
    "FECHA<br>\n",
    "RANGO HORARIO<br>\n",
    "DIA SEMANA -> día de la semana<br>\n",
    "DISTRITO -> barrio<br>\n",
    "LUGAR ACCIDENTE -> calle<br>\n",
    "Nº -> número de la via (se limpia)<br>\n",
    "Nº PARTE <br>\n",
    "CPFA Granizo (clima)<br>\n",
    "CPFA Hielo (clima)<br>\n",
    "CPFA Lluvia (clima)<br>\n",
    "CPFA Niebla (clima)<br>\n",
    "CPFA Seco (clima)<br>\n",
    "CPFA Nieve (clima)<br>\n",
    "CPSV Mojada (estado de la calzada)<br>\n",
    "CPSV Aceite (estado de la calzada)<br>\n",
    "CPSV Barro (estado de la calzada)<br>\n",
    "CPSV Grava Suelta (estado de la calzada)<br>\n",
    "CPSV Hielo (estado de la calzada)<br>\n",
    "CPSV Seca Y Limpia(estado de la calzada)<br>\n",
    "Nº VICTIMAS <br>\n",
    "TIPO ACCIDENTE -> ATROPELLO,CAÍDA BICICLETA, CAÍDA MOTOCICLETA, COLISIÓN DOBLE, COLISIÓN MÚLTIPLE, CHOQUE CON OBJETO FIJO<br>\n",
    "Tipo Vehiculo -> BICICLETA (SE LIMPIA)<br>                         \n",
    "TIPO PERSONA -> CONDUCTOR, VIAJERO.<br>\n",
    "LESIVIDAD-> ILESO, HERIDO LEVE, HERIDO GRAVE. Los no asignados se limpian<br>\n",
    "SEXO -> hombre o mujer. los no asignados se limpian<br>\n",
    "Tramo Edad<br>\n"
   ]
  },
  {
   "cell_type": "markdown",
   "metadata": {},
   "source": [
    "### Carga de librerias y preparado del dataset"
   ]
  },
  {
   "cell_type": "code",
   "execution_count": 1,
   "metadata": {},
   "outputs": [],
   "source": [
    "import numpy as np\n",
    "import pandas as pd\n",
    "import matplotlib.pyplot as plot"
   ]
  },
  {
   "cell_type": "code",
   "execution_count": 2,
   "metadata": {},
   "outputs": [
    {
     "data": {
      "text/html": [
       "<div>\n",
       "<style scoped>\n",
       "    .dataframe tbody tr th:only-of-type {\n",
       "        vertical-align: middle;\n",
       "    }\n",
       "\n",
       "    .dataframe tbody tr th {\n",
       "        vertical-align: top;\n",
       "    }\n",
       "\n",
       "    .dataframe thead th {\n",
       "        text-align: right;\n",
       "    }\n",
       "</style>\n",
       "<table border=\"1\" class=\"dataframe\">\n",
       "  <thead>\n",
       "    <tr style=\"text-align: right;\">\n",
       "      <th></th>\n",
       "      <th>fecha</th>\n",
       "      <th>rangoHorario</th>\n",
       "      <th>dia</th>\n",
       "      <th>distrito</th>\n",
       "      <th>calle</th>\n",
       "      <th>nCalle</th>\n",
       "      <th>nParte</th>\n",
       "      <th>climaGranizo</th>\n",
       "      <th>climaHielo</th>\n",
       "      <th>climaLluvia</th>\n",
       "      <th>...</th>\n",
       "      <th>calzadaGrava</th>\n",
       "      <th>calzadaHielo</th>\n",
       "      <th>calzadaSecaLimpia</th>\n",
       "      <th>nVictimas</th>\n",
       "      <th>tipoAccidente</th>\n",
       "      <th>tipoVehiculo</th>\n",
       "      <th>tipoPersona</th>\n",
       "      <th>sexo</th>\n",
       "      <th>lesividad</th>\n",
       "      <th>tramoEdad</th>\n",
       "    </tr>\n",
       "  </thead>\n",
       "  <tbody>\n",
       "    <tr>\n",
       "      <th>0</th>\n",
       "      <td>2018-01-01</td>\n",
       "      <td>DE 13:00 A 13:59</td>\n",
       "      <td>LUNES</td>\n",
       "      <td>ARGANZUELA</td>\n",
       "      <td>CALLE DE ANCORA - PASEO DE LAS DELICIAS       ...</td>\n",
       "      <td>0</td>\n",
       "      <td>2018/25</td>\n",
       "      <td>NO</td>\n",
       "      <td>NO</td>\n",
       "      <td>NO</td>\n",
       "      <td>...</td>\n",
       "      <td>NO</td>\n",
       "      <td>NO</td>\n",
       "      <td>SI</td>\n",
       "      <td>1</td>\n",
       "      <td>COLISIÓN DOBLE</td>\n",
       "      <td>BICICLETA</td>\n",
       "      <td>CONDUCTOR</td>\n",
       "      <td>HOMBRE</td>\n",
       "      <td>HL</td>\n",
       "      <td>DE 30 A 34 ANOS</td>\n",
       "    </tr>\n",
       "    <tr>\n",
       "      <th>1</th>\n",
       "      <td>2018-01-01</td>\n",
       "      <td>DE 15:00 A 15:59</td>\n",
       "      <td>LUNES</td>\n",
       "      <td>CENTRO</td>\n",
       "      <td>CALLE DE ALCALA NUM                           ...</td>\n",
       "      <td>44</td>\n",
       "      <td>2018/76</td>\n",
       "      <td>NO</td>\n",
       "      <td>NO</td>\n",
       "      <td>NO</td>\n",
       "      <td>...</td>\n",
       "      <td>NO</td>\n",
       "      <td>NO</td>\n",
       "      <td>SI</td>\n",
       "      <td>2</td>\n",
       "      <td>ATROPELLO</td>\n",
       "      <td>BICICLETA</td>\n",
       "      <td>CONDUCTOR</td>\n",
       "      <td>HOMBRE</td>\n",
       "      <td>HL</td>\n",
       "      <td>DE 25 A 29 AÑOS</td>\n",
       "    </tr>\n",
       "    <tr>\n",
       "      <th>2</th>\n",
       "      <td>2018-01-02</td>\n",
       "      <td>DE 12:00 A 12:59</td>\n",
       "      <td>MARTES</td>\n",
       "      <td>SALAMANCA</td>\n",
       "      <td>CALLE DE SERRANO - CALLE DEL CONDE DE ARANDA  ...</td>\n",
       "      <td>0</td>\n",
       "      <td>2018/30</td>\n",
       "      <td>NO</td>\n",
       "      <td>NO</td>\n",
       "      <td>NO</td>\n",
       "      <td>...</td>\n",
       "      <td>NO</td>\n",
       "      <td>NO</td>\n",
       "      <td>SI</td>\n",
       "      <td>2</td>\n",
       "      <td>ATROPELLO</td>\n",
       "      <td>BICICLETA</td>\n",
       "      <td>CONDUCTOR</td>\n",
       "      <td>HOMBRE</td>\n",
       "      <td>HL</td>\n",
       "      <td>DE 40 A 44 AÑOS</td>\n",
       "    </tr>\n",
       "    <tr>\n",
       "      <th>3</th>\n",
       "      <td>2018-01-03</td>\n",
       "      <td>DE 13:00 A 13:59</td>\n",
       "      <td>MIERCOLES</td>\n",
       "      <td>SALAMANCA</td>\n",
       "      <td>PLAZA DE LA INDEPENDENCIA NUM                 ...</td>\n",
       "      <td>5</td>\n",
       "      <td>2018/94</td>\n",
       "      <td>NO</td>\n",
       "      <td>NO</td>\n",
       "      <td>NO</td>\n",
       "      <td>...</td>\n",
       "      <td>NO</td>\n",
       "      <td>NO</td>\n",
       "      <td>SI</td>\n",
       "      <td>1</td>\n",
       "      <td>COLISIÓN DOBLE</td>\n",
       "      <td>BICICLETA</td>\n",
       "      <td>CONDUCTOR</td>\n",
       "      <td>HOMBRE</td>\n",
       "      <td>HL</td>\n",
       "      <td>DE 50 A 54 AÑOS</td>\n",
       "    </tr>\n",
       "    <tr>\n",
       "      <th>4</th>\n",
       "      <td>2018-01-03</td>\n",
       "      <td>DE 15:00 A 15:59</td>\n",
       "      <td>MIERCOLES</td>\n",
       "      <td>CIUDAD LINEAL</td>\n",
       "      <td>CALLE DE RAMIREZ DE ARELLANO NUM              ...</td>\n",
       "      <td>35</td>\n",
       "      <td>2018/361</td>\n",
       "      <td>NO</td>\n",
       "      <td>NO</td>\n",
       "      <td>NO</td>\n",
       "      <td>...</td>\n",
       "      <td>NO</td>\n",
       "      <td>NO</td>\n",
       "      <td>SI</td>\n",
       "      <td>1</td>\n",
       "      <td>COLISIÓN DOBLE</td>\n",
       "      <td>BICICLETA</td>\n",
       "      <td>CONDUCTOR</td>\n",
       "      <td>HOMBRE</td>\n",
       "      <td>HL</td>\n",
       "      <td>DE 25 A 29 AÑOS</td>\n",
       "    </tr>\n",
       "  </tbody>\n",
       "</table>\n",
       "<p>5 rows × 26 columns</p>\n",
       "</div>"
      ],
      "text/plain": [
       "       fecha      rangoHorario        dia                        distrito  \\\n",
       "0 2018-01-01  DE 13:00 A 13:59      LUNES  ARGANZUELA                       \n",
       "1 2018-01-01  DE 15:00 A 15:59      LUNES  CENTRO                           \n",
       "2 2018-01-02  DE 12:00 A 12:59     MARTES  SALAMANCA                        \n",
       "3 2018-01-03  DE 13:00 A 13:59  MIERCOLES  SALAMANCA                        \n",
       "4 2018-01-03  DE 15:00 A 15:59  MIERCOLES  CIUDAD LINEAL                    \n",
       "\n",
       "                                               calle nCalle    nParte  \\\n",
       "0  CALLE DE ANCORA - PASEO DE LAS DELICIAS       ...      0   2018/25   \n",
       "1  CALLE DE ALCALA NUM                           ...     44   2018/76   \n",
       "2  CALLE DE SERRANO - CALLE DEL CONDE DE ARANDA  ...      0   2018/30   \n",
       "3  PLAZA DE LA INDEPENDENCIA NUM                 ...      5   2018/94   \n",
       "4  CALLE DE RAMIREZ DE ARELLANO NUM              ...     35  2018/361   \n",
       "\n",
       "  climaGranizo climaHielo climaLluvia  ... calzadaGrava calzadaHielo  \\\n",
       "0           NO         NO          NO  ...           NO           NO   \n",
       "1           NO         NO          NO  ...           NO           NO   \n",
       "2           NO         NO          NO  ...           NO           NO   \n",
       "3           NO         NO          NO  ...           NO           NO   \n",
       "4           NO         NO          NO  ...           NO           NO   \n",
       "\n",
       "  calzadaSecaLimpia nVictimas                             tipoAccidente  \\\n",
       "0                SI         1  COLISIÓN DOBLE                             \n",
       "1                SI         2  ATROPELLO                                  \n",
       "2                SI         2  ATROPELLO                                  \n",
       "3                SI         1  COLISIÓN DOBLE                             \n",
       "4                SI         1  COLISIÓN DOBLE                             \n",
       "\n",
       "                               tipoVehiculo tipoPersona    sexo  \\\n",
       "0  BICICLETA                                  CONDUCTOR  HOMBRE   \n",
       "1  BICICLETA                                  CONDUCTOR  HOMBRE   \n",
       "2  BICICLETA                                  CONDUCTOR  HOMBRE   \n",
       "3  BICICLETA                                  CONDUCTOR  HOMBRE   \n",
       "4  BICICLETA                                  CONDUCTOR  HOMBRE   \n",
       "\n",
       "                                  lesividad        tramoEdad  \n",
       "0  HL                                        DE 30 A 34 ANOS  \n",
       "1  HL                                        DE 25 A 29 AÑOS  \n",
       "2  HL                                        DE 40 A 44 AÑOS  \n",
       "3  HL                                        DE 50 A 54 AÑOS  \n",
       "4  HL                                        DE 25 A 29 AÑOS  \n",
       "\n",
       "[5 rows x 26 columns]"
      ]
     },
     "execution_count": 2,
     "metadata": {},
     "output_type": "execute_result"
    }
   ],
   "source": [
    "import io\n",
    "import requests\n",
    "import lxml\n",
    "import html5lib\n",
    "columns = [\"fecha\", \"rangoHorario\", \"dia\", \"distrito\", \"calle\", \"nCalle\", \"nParte\", \"climaGranizo\", \"climaHielo\", \"climaLluvia\", \n",
    "    \"climaNiebla\", \"climaSeco\", \"climaNieve\", \"calzadaMojada\", \"calzadaAceite\", \"calzadaBarro\", \"calzadaGrava\", \"calzadaHielo\",\n",
    "    \"calzadaSecaLimpia\", \"nVictimas\", \"tipoAccidente\", \"tipoVehiculo\", \"tipoPersona\", \"sexo\", \"lesividad\", \"tramoEdad\"\n",
    "]\n",
    "\n",
    "df = pd.read_excel('https://datos.madrid.es/egob/catalogo/300110-3-accidentes-bicicleta.xlsx', names=columns)\n",
    "# se intentó cargar el csv mediante read_csv y read_html pero para un enlace externo no funcionó.\n",
    "#url=\"https://datos.madrid.es/egobfiles/MANUAL/300110/AccidentesBicicletas_2018.csv\"\n",
    "#string=requests.get(url).content\n",
    "#csv=pd.read_csv(io.StringIO(string.decode('utf-8', errors=\"ignore\")), sep=\",\", names=new_names)\n",
    "#df = pd.read_html(url, thousands='.', decimal=',')\n",
    "\n",
    "df.head()\n"
   ]
  },
  {
   "cell_type": "markdown",
   "metadata": {},
   "source": [
    "A continuación se han eliminados las columnas que no van a ser analizadas y también los campos no asignados que para este caso han sido tratados como no válidos. \n"
   ]
  },
  {
   "cell_type": "code",
   "execution_count": 3,
   "metadata": {},
   "outputs": [
    {
     "data": {
      "text/html": [
       "<div>\n",
       "<style scoped>\n",
       "    .dataframe tbody tr th:only-of-type {\n",
       "        vertical-align: middle;\n",
       "    }\n",
       "\n",
       "    .dataframe tbody tr th {\n",
       "        vertical-align: top;\n",
       "    }\n",
       "\n",
       "    .dataframe thead th {\n",
       "        text-align: right;\n",
       "    }\n",
       "</style>\n",
       "<table border=\"1\" class=\"dataframe\">\n",
       "  <thead>\n",
       "    <tr style=\"text-align: right;\">\n",
       "      <th></th>\n",
       "      <th>fecha</th>\n",
       "      <th>rangoHorario</th>\n",
       "      <th>dia</th>\n",
       "      <th>distrito</th>\n",
       "      <th>calle</th>\n",
       "      <th>climaGranizo</th>\n",
       "      <th>climaHielo</th>\n",
       "      <th>climaLluvia</th>\n",
       "      <th>climaNiebla</th>\n",
       "      <th>climaSeco</th>\n",
       "      <th>...</th>\n",
       "      <th>calzadaBarro</th>\n",
       "      <th>calzadaGrava</th>\n",
       "      <th>calzadaHielo</th>\n",
       "      <th>calzadaSecaLimpia</th>\n",
       "      <th>nVictimas</th>\n",
       "      <th>tipoAccidente</th>\n",
       "      <th>tipoPersona</th>\n",
       "      <th>sexo</th>\n",
       "      <th>lesividad</th>\n",
       "      <th>tramoEdad</th>\n",
       "    </tr>\n",
       "  </thead>\n",
       "  <tbody>\n",
       "    <tr>\n",
       "      <th>0</th>\n",
       "      <td>2018-01-01</td>\n",
       "      <td>DE 13:00 A 13:59</td>\n",
       "      <td>LUNES</td>\n",
       "      <td>ARGANZUELA</td>\n",
       "      <td>CALLE DE ANCORA - PASEO DE LAS DELICIAS       ...</td>\n",
       "      <td>NO</td>\n",
       "      <td>NO</td>\n",
       "      <td>NO</td>\n",
       "      <td>NO</td>\n",
       "      <td>SI</td>\n",
       "      <td>...</td>\n",
       "      <td>NO</td>\n",
       "      <td>NO</td>\n",
       "      <td>NO</td>\n",
       "      <td>SI</td>\n",
       "      <td>1</td>\n",
       "      <td>COLISIÓN DOBLE</td>\n",
       "      <td>CONDUCTOR</td>\n",
       "      <td>HOMBRE</td>\n",
       "      <td>HL</td>\n",
       "      <td>DE 30 A 34 ANOS</td>\n",
       "    </tr>\n",
       "    <tr>\n",
       "      <th>1</th>\n",
       "      <td>2018-01-01</td>\n",
       "      <td>DE 15:00 A 15:59</td>\n",
       "      <td>LUNES</td>\n",
       "      <td>CENTRO</td>\n",
       "      <td>CALLE DE ALCALA NUM                           ...</td>\n",
       "      <td>NO</td>\n",
       "      <td>NO</td>\n",
       "      <td>NO</td>\n",
       "      <td>NO</td>\n",
       "      <td>SI</td>\n",
       "      <td>...</td>\n",
       "      <td>NO</td>\n",
       "      <td>NO</td>\n",
       "      <td>NO</td>\n",
       "      <td>SI</td>\n",
       "      <td>2</td>\n",
       "      <td>ATROPELLO</td>\n",
       "      <td>CONDUCTOR</td>\n",
       "      <td>HOMBRE</td>\n",
       "      <td>HL</td>\n",
       "      <td>DE 25 A 29 AÑOS</td>\n",
       "    </tr>\n",
       "  </tbody>\n",
       "</table>\n",
       "<p>2 rows × 23 columns</p>\n",
       "</div>"
      ],
      "text/plain": [
       "       fecha      rangoHorario    dia                        distrito  \\\n",
       "0 2018-01-01  DE 13:00 A 13:59  LUNES  ARGANZUELA                       \n",
       "1 2018-01-01  DE 15:00 A 15:59  LUNES  CENTRO                           \n",
       "\n",
       "                                               calle climaGranizo climaHielo  \\\n",
       "0  CALLE DE ANCORA - PASEO DE LAS DELICIAS       ...           NO         NO   \n",
       "1  CALLE DE ALCALA NUM                           ...           NO         NO   \n",
       "\n",
       "  climaLluvia climaNiebla climaSeco  ... calzadaBarro calzadaGrava  \\\n",
       "0          NO          NO        SI  ...           NO           NO   \n",
       "1          NO          NO        SI  ...           NO           NO   \n",
       "\n",
       "  calzadaHielo calzadaSecaLimpia nVictimas  \\\n",
       "0           NO                SI         1   \n",
       "1           NO                SI         2   \n",
       "\n",
       "                              tipoAccidente tipoPersona    sexo  \\\n",
       "0  COLISIÓN DOBLE                             CONDUCTOR  HOMBRE   \n",
       "1  ATROPELLO                                  CONDUCTOR  HOMBRE   \n",
       "\n",
       "                                  lesividad        tramoEdad  \n",
       "0  HL                                        DE 30 A 34 ANOS  \n",
       "1  HL                                        DE 25 A 29 AÑOS  \n",
       "\n",
       "[2 rows x 23 columns]"
      ]
     },
     "execution_count": 3,
     "metadata": {},
     "output_type": "execute_result"
    }
   ],
   "source": [
    "#Eliminar columnas\n",
    "\n",
    "# Todos los tipos de vehículo son biciletas por lo que no se ha tenido en cuenta esta columna\n",
    "del df[\"tipoVehiculo\"]\n",
    "\n",
    "# Tampoco se ha tenido en cuenta el número de la calle en cuestión\n",
    "del df[\"nCalle\"]\n",
    "\n",
    "# El nº de parte tampoco es necesario\n",
    "del df[\"nParte\"]\n",
    "\n",
    "df.head(2)"
   ]
  },
  {
   "cell_type": "code",
   "execution_count": 4,
   "metadata": {},
   "outputs": [],
   "source": [
    "df[\"sexo\"].count()\n",
    "# Limpieza de los no asignados tanto en sexo como en lesividad del accidente\n",
    "df = df[df.sexo != \"NO ASIGNADO\"]\n",
    "df = df[df.lesividad != \"NO ASIGNADO\"] # este no es necesario ya que coincide con los campos de la columna sexo"
   ]
  },
  {
   "cell_type": "code",
   "execution_count": 5,
   "metadata": {},
   "outputs": [
    {
     "data": {
      "text/plain": [
       "fecha                689\n",
       "rangoHorario         689\n",
       "dia                  689\n",
       "distrito             689\n",
       "calle                689\n",
       "climaGranizo         689\n",
       "climaHielo           689\n",
       "climaLluvia          689\n",
       "climaNiebla          689\n",
       "climaSeco            689\n",
       "climaNieve           689\n",
       "calzadaMojada        689\n",
       "calzadaAceite        689\n",
       "calzadaBarro         689\n",
       "calzadaGrava         689\n",
       "calzadaHielo         689\n",
       "calzadaSecaLimpia    689\n",
       "nVictimas            689\n",
       "tipoAccidente        689\n",
       "tipoPersona          689\n",
       "sexo                 689\n",
       "lesividad            689\n",
       "tramoEdad            689\n",
       "dtype: int64"
      ]
     },
     "execution_count": 5,
     "metadata": {},
     "output_type": "execute_result"
    }
   ],
   "source": [
    "df.count()"
   ]
  },
  {
   "cell_type": "markdown",
   "metadata": {},
   "source": [
    "### Victimas totales"
   ]
  },
  {
   "cell_type": "code",
   "execution_count": 6,
   "metadata": {},
   "outputs": [
    {
     "data": {
      "text/plain": [
       "776"
      ]
     },
     "execution_count": 6,
     "metadata": {},
     "output_type": "execute_result"
    }
   ],
   "source": [
    "df[\"nVictimas\"].sum()"
   ]
  },
  {
   "cell_type": "markdown",
   "metadata": {},
   "source": [
    "### Victimas por distrito\n",
    "victimas por distrito ordenadas de mayor a menor"
   ]
  },
  {
   "cell_type": "code",
   "execution_count": 7,
   "metadata": {},
   "outputs": [],
   "source": [
    "victimasPorDistrito = df.groupby([\"distrito\"])[\"nVictimas\"].sum().sort_values(ascending = False)"
   ]
  },
  {
   "cell_type": "code",
   "execution_count": 8,
   "metadata": {},
   "outputs": [
    {
     "data": {
      "text/plain": [
       "<bound method NDFrame.head of distrito\n",
       "CENTRO                            149\n",
       "MONCLOA-ARAVACA                    65\n",
       "RETIRO                             54\n",
       "CHAMBERI                           52\n",
       "SALAMANCA                          50\n",
       "LATINA                             42\n",
       "CARABANCHEL                        38\n",
       "FUENCARRAL-EL PARDO                37\n",
       "ARGANZUELA                         36\n",
       "TETUAN                             36\n",
       "PUENTE DE VALLECAS                 30\n",
       "CHAMARTIN                          27\n",
       "SAN BLAS                           26\n",
       "CIUDAD LINEAL                      26\n",
       "HORTALEZA                          23\n",
       "USERA                              21\n",
       "MORATALAZ                          17\n",
       "VILLA DE VALLECAS                  15\n",
       "VICALVARO                          12\n",
       "VILLAVERDE                         12\n",
       "BARAJAS                             8\n",
       "Name: nVictimas, dtype: int64>"
      ]
     },
     "execution_count": 8,
     "metadata": {},
     "output_type": "execute_result"
    }
   ],
   "source": [
    "victimasPorDistrito.head"
   ]
  },
  {
   "cell_type": "markdown",
   "metadata": {},
   "source": [
    "### Numero de lesiones producidas por el accidente dependiendo de la lesividad"
   ]
  },
  {
   "cell_type": "code",
   "execution_count": 9,
   "metadata": {},
   "outputs": [],
   "source": [
    "victimasPorLesividad = pd.pivot_table(df, index= \"lesividad\", aggfunc=\"sum\", values=\"nVictimas\")\n"
   ]
  },
  {
   "cell_type": "code",
   "execution_count": 10,
   "metadata": {},
   "outputs": [
    {
     "data": {
      "text/html": [
       "<div>\n",
       "<style scoped>\n",
       "    .dataframe tbody tr th:only-of-type {\n",
       "        vertical-align: middle;\n",
       "    }\n",
       "\n",
       "    .dataframe tbody tr th {\n",
       "        vertical-align: top;\n",
       "    }\n",
       "\n",
       "    .dataframe thead th {\n",
       "        text-align: right;\n",
       "    }\n",
       "</style>\n",
       "<table border=\"1\" class=\"dataframe\">\n",
       "  <thead>\n",
       "    <tr style=\"text-align: right;\">\n",
       "      <th></th>\n",
       "      <th>nVictimas</th>\n",
       "    </tr>\n",
       "    <tr>\n",
       "      <th>lesividad</th>\n",
       "      <th></th>\n",
       "    </tr>\n",
       "  </thead>\n",
       "  <tbody>\n",
       "    <tr>\n",
       "      <th>HG</th>\n",
       "      <td>68</td>\n",
       "    </tr>\n",
       "    <tr>\n",
       "      <th>HL</th>\n",
       "      <td>632</td>\n",
       "    </tr>\n",
       "    <tr>\n",
       "      <th>IL</th>\n",
       "      <td>76</td>\n",
       "    </tr>\n",
       "  </tbody>\n",
       "</table>\n",
       "</div>"
      ],
      "text/plain": [
       "                                          nVictimas\n",
       "lesividad                                          \n",
       "HG                                               68\n",
       "HL                                              632\n",
       "IL                                               76"
      ]
     },
     "execution_count": 10,
     "metadata": {},
     "output_type": "execute_result"
    }
   ],
   "source": [
    "# Heridos Graves 68\n",
    "# Heridos Leves 632\n",
    "# Ilesos 76\n",
    "\n",
    "victimasPorLesividad"
   ]
  },
  {
   "cell_type": "markdown",
   "metadata": {},
   "source": [
    "### nVictimas por Sexo"
   ]
  },
  {
   "cell_type": "code",
   "execution_count": 11,
   "metadata": {},
   "outputs": [],
   "source": [
    "victimasPorSexo = df.groupby([\"sexo\"])[\"nVictimas\"].sum()"
   ]
  },
  {
   "cell_type": "code",
   "execution_count": 12,
   "metadata": {},
   "outputs": [
    {
     "data": {
      "text/plain": [
       "sexo\n",
       "HOMBRE    626\n",
       "MUJER     150\n",
       "Name: nVictimas, dtype: int64"
      ]
     },
     "execution_count": 12,
     "metadata": {},
     "output_type": "execute_result"
    }
   ],
   "source": [
    "# 626 Hombres\n",
    "# 150 Mujeres\n",
    "victimasPorSexo"
   ]
  },
  {
   "cell_type": "markdown",
   "metadata": {},
   "source": [
    "### nVictimas por Rango de edad"
   ]
  },
  {
   "cell_type": "code",
   "execution_count": 13,
   "metadata": {},
   "outputs": [],
   "source": [
    "victimasPorEdad = df.groupby([\"tramoEdad\"])[\"nVictimas\"].sum()"
   ]
  },
  {
   "cell_type": "code",
   "execution_count": 14,
   "metadata": {},
   "outputs": [
    {
     "data": {
      "text/plain": [
       "tramoEdad\n",
       "DE 10 A 14 AÑOS        21\n",
       "DE 15 A 17 AÑOS        27\n",
       "DE 18 A 20 AÑOS        54\n",
       "DE 21 A 24 AÑOS        44\n",
       "DE 25 A 29 AÑOS       135\n",
       "DE 30 A 34 ANOS       110\n",
       "DE 35 A 39 AÑOS        91\n",
       "DE 40 A 44 AÑOS        86\n",
       "DE 45 A 49 AÑOS        65\n",
       "DE 50 A 54 AÑOS        52\n",
       "DE 55 A 59 AÑOS        40\n",
       "DE 6 A 9 AÑOS           4\n",
       "DE 60 A 64 AÑOS        16\n",
       "DE 65 A 69 AÑOS        12\n",
       "DE 70 A 74 AÑOS        10\n",
       "DE MAS DE 74 AÑOS       7\n",
       "DESCONOCIDA             2\n",
       "Name: nVictimas, dtype: int64"
      ]
     },
     "execution_count": 14,
     "metadata": {},
     "output_type": "execute_result"
    }
   ],
   "source": [
    "# Gente comprendida entre 25 y 34 años sufren bastante más accidentes que el resto de grupos\n",
    "# NO se habia limpiado del todo el dataset ya que hay 2 campos que contienen una edad desconocida, para el caso se ha obviado al no ser relevante\n",
    "\n",
    "victimasPorEdad"
   ]
  },
  {
   "cell_type": "markdown",
   "metadata": {},
   "source": [
    "### Accidentes ocurridos por día de la semana"
   ]
  },
  {
   "cell_type": "code",
   "execution_count": 15,
   "metadata": {},
   "outputs": [
    {
     "data": {
      "text/html": [
       "<div>\n",
       "<style scoped>\n",
       "    .dataframe tbody tr th:only-of-type {\n",
       "        vertical-align: middle;\n",
       "    }\n",
       "\n",
       "    .dataframe tbody tr th {\n",
       "        vertical-align: top;\n",
       "    }\n",
       "\n",
       "    .dataframe thead th {\n",
       "        text-align: right;\n",
       "    }\n",
       "</style>\n",
       "<table border=\"1\" class=\"dataframe\">\n",
       "  <thead>\n",
       "    <tr style=\"text-align: right;\">\n",
       "      <th></th>\n",
       "      <th>nVictimas</th>\n",
       "    </tr>\n",
       "    <tr>\n",
       "      <th>dia</th>\n",
       "      <th></th>\n",
       "    </tr>\n",
       "  </thead>\n",
       "  <tbody>\n",
       "    <tr>\n",
       "      <th>DOMINGO</th>\n",
       "      <td>96</td>\n",
       "    </tr>\n",
       "    <tr>\n",
       "      <th>JUEVES</th>\n",
       "      <td>122</td>\n",
       "    </tr>\n",
       "    <tr>\n",
       "      <th>LUNES</th>\n",
       "      <td>94</td>\n",
       "    </tr>\n",
       "    <tr>\n",
       "      <th>MARTES</th>\n",
       "      <td>135</td>\n",
       "    </tr>\n",
       "    <tr>\n",
       "      <th>MIERCOLES</th>\n",
       "      <td>114</td>\n",
       "    </tr>\n",
       "    <tr>\n",
       "      <th>SABADO</th>\n",
       "      <td>105</td>\n",
       "    </tr>\n",
       "    <tr>\n",
       "      <th>VIERNES</th>\n",
       "      <td>110</td>\n",
       "    </tr>\n",
       "  </tbody>\n",
       "</table>\n",
       "</div>"
      ],
      "text/plain": [
       "           nVictimas\n",
       "dia                 \n",
       "DOMINGO           96\n",
       "JUEVES           122\n",
       "LUNES             94\n",
       "MARTES           135\n",
       "MIERCOLES        114\n",
       "SABADO           105\n",
       "VIERNES          110"
      ]
     },
     "execution_count": 15,
     "metadata": {},
     "output_type": "execute_result"
    }
   ],
   "source": [
    "accidentesPorDia = pd.pivot_table(df, index= \"diaSemana\", aggfunc=\"sum\", values=\"nVictimas\")\n",
    "\n",
    "\n",
    "## Habia esperado encontrar mayor numero de accidentes en fines de semana, pero no ha sido así\n",
    "accidentesPorDia"
   ]
  },
  {
   "cell_type": "code",
   "execution_count": null,
   "metadata": {},
   "outputs": [],
   "source": []
  },
  {
   "cell_type": "markdown",
   "metadata": {},
   "source": [
    "### Accidentes teniendo en cuenta el tipo de accidente y el clima o estado de la via"
   ]
  },
  {
   "cell_type": "code",
   "execution_count": 16,
   "metadata": {},
   "outputs": [
    {
     "data": {
      "text/plain": [
       "1"
      ]
     },
     "execution_count": 16,
     "metadata": {},
     "output_type": "execute_result"
    }
   ],
   "source": [
    "## Mezclar por ejemplo cuando hizo lluvia y se chocaron contra un objeto. por ejemplo\n",
    "\n",
    "lluviaChoqueConObjeto = df[(df[\"climaLluvia\"] ==\"SI\") & (df[\"tipoAccidente\"] == \"CHOQUE CON OBJETO FIJO\")]\n",
    "## renombramos los campos ya no no funciona así\n",
    "\n",
    "df[\"tipoAccidente\"] = df[\"tipoAccidente\"].str.replace(\"CAÍDA BICICLETA\", \"CAIDABICI\")\n",
    "df[\"tipoAccidente\"] =df[\"tipoAccidente\"].str.replace(\"COLISIÓN DOBLE\", \"COLISIONDOBLE\")\n",
    "df[\"tipoAccidente\"] =df[\"tipoAccidente\"].str.replace(\"CHOQUE CON OBJETO FIJO\", \"CHOQUEOBJETOFIJO\")\n",
    "df[\"tipoAccidente\"] =df[\"tipoAccidente\"].str.replace(\"CAÍDA MOTOCICLETA\", \"CAIDAMOTO\")\n",
    "\n",
    "# importante, deja espacios en blanco al final\n",
    "df[\"tipoAccidente\"] =df[\"tipoAccidente\"].str.strip()\n",
    "\n",
    "\n",
    "#df.head(10)\n",
    "\n",
    "lluviaChoqueConObjeto = df[(df[\"climaLluvia\"] ==\"SI\") & (df[\"tipoAccidente\"] == \"CHOQUEOBJETOFIJO\")]\n",
    "#lluviaChoqueConObjeto.head()\n",
    "\n",
    "lluviaChoqueConObjeto = lluviaChoqueConObjeto[\"nVictimas\"].sum()\n",
    "## 1 COn lluvia y choque contra objeto\n",
    "lluviaChoqueConObjeto"
   ]
  },
  {
   "cell_type": "code",
   "execution_count": 17,
   "metadata": {},
   "outputs": [
    {
     "data": {
      "text/plain": [
       "15"
      ]
     },
     "execution_count": 17,
     "metadata": {},
     "output_type": "execute_result"
    }
   ],
   "source": [
    "# Ahora vemos los choques contra objetos en dias secos\n",
    "secoChoqueConObjeto = df[(df[\"climaSeco\"] ==\"SI\") & (df[\"tipoAccidente\"] == \"CHOQUEOBJETOFIJO\")]\n",
    "#lluviaChoqueConObjeto.head()\n",
    "\n",
    "secoChoqueConObjeto = secoChoqueConObjeto[\"nVictimas\"].sum()\n",
    "## 15 COn clima seco y choque contra objeto\n",
    "secoChoqueConObjeto"
   ]
  },
  {
   "cell_type": "code",
   "execution_count": 18,
   "metadata": {},
   "outputs": [
    {
     "data": {
      "text/plain": [
       "43"
      ]
     },
     "execution_count": 18,
     "metadata": {},
     "output_type": "execute_result"
    }
   ],
   "source": [
    "# Se puede determinar que la lluvia no es un factor influyente a la hora de chocar con objetos,\n",
    "# Veamos a continuación si lo es para una caida\n",
    "\n",
    "lluviaCaida = df[(df[\"calzadaMojada\"] ==\"SI\") & (df[\"tipoAccidente\"] == \"CAIDABICI\")]\n",
    "\n",
    "lluviaCaida = lluviaCaida[\"nVictimas\"].sum()\n",
    "lluviaCaida\n",
    "# 43 Caidas con la calzada mojada"
   ]
  },
  {
   "cell_type": "code",
   "execution_count": 19,
   "metadata": {},
   "outputs": [
    {
     "data": {
      "text/plain": [
       "233"
      ]
     },
     "execution_count": 19,
     "metadata": {},
     "output_type": "execute_result"
    }
   ],
   "source": [
    "# Veamos a continuación con la calzada seca y limpia\n",
    "secaLimpiaCaida = df[(df[\"calzadaSecaLimpia\"] ==\"SI\") & (df[\"tipoAccidente\"] == \"CAIDABICI\")]\n",
    "\n",
    "secaLimpiaCaida = secaLimpiaCaida[\"nVictimas\"].sum()\n",
    "secaLimpiaCaida\n",
    "# 233, no podemos determinar que la calzada mojada sea influyente ya que no tenemos los datos\n",
    "# de cuantas bicicletas salen con calzada seca y limpia y cuantas con lluvia. Vamos a ver\n",
    "# a continuación si afecta a los choques con otro vehículo\n"
   ]
  },
  {
   "cell_type": "code",
   "execution_count": 20,
   "metadata": {},
   "outputs": [
    {
     "data": {
      "text/plain": [
       "319"
      ]
     },
     "execution_count": 20,
     "metadata": {},
     "output_type": "execute_result"
    }
   ],
   "source": [
    "secaLimpiaColision = df[(df[\"calzadaSecaLimpia\"] ==\"SI\") & (df[\"tipoAccidente\"] == \"COLISIONDOBLE\")]\n",
    "\n",
    "secaLimpiaColision = secaLimpiaColision[\"nVictimas\"].sum()\n",
    "secaLimpiaColision\n",
    "#319"
   ]
  },
  {
   "cell_type": "code",
   "execution_count": 21,
   "metadata": {},
   "outputs": [
    {
     "data": {
      "text/plain": [
       "40"
      ]
     },
     "execution_count": 21,
     "metadata": {},
     "output_type": "execute_result"
    }
   ],
   "source": [
    "lluviaColision = df[(df[\"calzadaMojada\"] ==\"SI\") & (df[\"tipoAccidente\"] == \"COLISIONDOBLE\")]\n",
    "\n",
    "lluviaColision = lluviaColision[\"nVictimas\"].sum()\n",
    "lluviaColision\n",
    "# 40, de nuevo son bastantes menos las colisiones con calzada mojada que con la calzada seca\n",
    "# se puede presuponer que se hace un menor uso de la bicicleta cuando hay lluvia"
   ]
  },
  {
   "cell_type": "code",
   "execution_count": 22,
   "metadata": {},
   "outputs": [
    {
     "data": {
      "text/plain": [
       "10"
      ]
     },
     "execution_count": 22,
     "metadata": {},
     "output_type": "execute_result"
    }
   ],
   "source": [
    "### Lluvia y heridos graves\n",
    "df[\"lesividad\"] =df[\"lesividad\"].str.strip()\n",
    "\n",
    "\n",
    "lluviaHg = df[(df[\"calzadaMojada\"] ==\"SI\") & (df[\"lesividad\"] == \"HG\")]\n",
    "\n",
    "lluviaHg = lluviaHg[\"nVictimas\"].sum()\n",
    "lluviaHg\n"
   ]
  },
  {
   "cell_type": "code",
   "execution_count": 23,
   "metadata": {},
   "outputs": [
    {
     "data": {
      "text/plain": [
       "74"
      ]
     },
     "execution_count": 23,
     "metadata": {},
     "output_type": "execute_result"
    }
   ],
   "source": [
    "### Lluvia y heridos leves\n",
    "\n",
    "lluviaHl = df[(df[\"calzadaMojada\"] ==\"SI\") & (df[\"lesividad\"] == \"HL\")]\n",
    "\n",
    "lluviaHl = lluviaHl[\"nVictimas\"].sum()\n",
    "lluviaHl"
   ]
  },
  {
   "cell_type": "code",
   "execution_count": 24,
   "metadata": {},
   "outputs": [
    {
     "data": {
      "text/plain": [
       "55"
      ]
     },
     "execution_count": 24,
     "metadata": {},
     "output_type": "execute_result"
    }
   ],
   "source": [
    "# vamos a ver que sucede ante accidentes con la calzada seca y su lesividad\n",
    "secaHg = df[(df[\"calzadaSecaLimpia\"] ==\"SI\") & (df[\"lesividad\"] == \"HG\")]\n",
    "\n",
    "secaHg = secaHg[\"nVictimas\"].sum()\n",
    "secaHg\n",
    "# 55"
   ]
  },
  {
   "cell_type": "code",
   "execution_count": 25,
   "metadata": {},
   "outputs": [
    {
     "data": {
      "text/plain": [
       "538"
      ]
     },
     "execution_count": 25,
     "metadata": {},
     "output_type": "execute_result"
    }
   ],
   "source": [
    "# \n",
    "secaHl = df[(df[\"calzadaSecaLimpia\"] ==\"SI\") & (df[\"lesividad\"] == \"HL\")]\n",
    "\n",
    "secaHl = secaHl[\"nVictimas\"].sum()\n",
    "secaHl"
   ]
  },
  {
   "cell_type": "markdown",
   "metadata": {},
   "source": [
    "### Calles de Madrid con más accidentes"
   ]
  },
  {
   "cell_type": "code",
   "execution_count": 41,
   "metadata": {},
   "outputs": [
    {
     "data": {
      "text/plain": [
       "calle\n",
       "CALLE DE ALCALA NUM                                                                                     15\n",
       "CALLE DE BRAVO MURILLO NUM                                                                              10\n",
       "PARQUE DE MADRID RIO (RIBERA OESTE) KM.                                                                  9\n",
       "CALLE DE SANTA ENGRACIA NUM                                                                              8\n",
       "PASEO DEL PRADO NUM                                                                                      8\n",
       "Name: nVictimas, dtype: int64"
      ]
     },
     "execution_count": 41,
     "metadata": {},
     "output_type": "execute_result"
    }
   ],
   "source": [
    "#accidentesPorCalle= pd.pivot_table(df, index= \"calle\", aggfunc=\"sum\", values=\"nVictimas\").sort_values(ascending = False)\n",
    "\n",
    "accidentesPorCalle = df.groupby([\"calle\"])[\"nVictimas\"].count().sort_values(ascending = False)\n",
    "#accidentesPorCalle.columns = [\"calle\", \"nAccidentes\"]\n",
    "\n",
    "accidentesPorCalle.head(5)\n",
    "# Calle Alacala y Bravo murillo son las ganadoras"
   ]
  },
  {
   "cell_type": "markdown",
   "metadata": {},
   "source": [
    "### Calles de Madrid con más accidentes"
   ]
  },
  {
   "cell_type": "code",
   "execution_count": 47,
   "metadata": {},
   "outputs": [
    {
     "data": {
      "text/plain": [
       "lesividad  tramoEdad         \n",
       "HL         DE 25 A 29 AÑOS       94\n",
       "           DE 30 A 34 ANOS       85\n",
       "           DE 35 A 39 AÑOS       68\n",
       "           DE 40 A 44 AÑOS       65\n",
       "           DE 45 A 49 AÑOS       45\n",
       "           DE 50 A 54 AÑOS       39\n",
       "           DE 18 A 20 AÑOS       36\n",
       "           DE 21 A 24 AÑOS       33\n",
       "           DE 55 A 59 AÑOS       29\n",
       "           DE 15 A 17 AÑOS       22\n",
       "           DE 10 A 14 AÑOS       13\n",
       "IL         DE 18 A 20 AÑOS       11\n",
       "HL         DE 60 A 64 AÑOS       11\n",
       "           DE 65 A 69 AÑOS       11\n",
       "HG         DE 30 A 34 ANOS       10\n",
       "           DE 40 A 44 AÑOS        9\n",
       "IL         DE 25 A 29 AÑOS        9\n",
       "           DE 35 A 39 AÑOS        9\n",
       "HG         DE 25 A 29 AÑOS        9\n",
       "HL         DE 70 A 74 AÑOS        8\n",
       "HG         DE 55 A 59 AÑOS        7\n",
       "IL         DE 30 A 34 ANOS        7\n",
       "HL         DE MAS DE 74 AÑOS      7\n",
       "HG         DE 35 A 39 AÑOS        6\n",
       "IL         DE 45 A 49 AÑOS        6\n",
       "HG         DE 45 A 49 AÑOS        5\n",
       "           DE 50 A 54 AÑOS        5\n",
       "IL         DE 40 A 44 AÑOS        5\n",
       "HG         DE 21 A 24 AÑOS        4\n",
       "           DE 10 A 14 AÑOS        3\n",
       "IL         DE 15 A 17 AÑOS        3\n",
       "           DE 21 A 24 AÑOS        3\n",
       "           DE 50 A 54 AÑOS        3\n",
       "HG         DE 60 A 64 AÑOS        2\n",
       "HL         DE 6 A 9 AÑOS          2\n",
       "IL         DE 60 A 64 AÑOS        1\n",
       "HL         DESCONOCIDA            1\n",
       "IL         DE 10 A 14 AÑOS        1\n",
       "           DE 6 A 9 AÑOS          1\n",
       "           DESCONOCIDA            1\n",
       "Name: nVictimas, dtype: int64"
      ]
     },
     "execution_count": 47,
     "metadata": {},
     "output_type": "execute_result"
    }
   ],
   "source": [
    "lesividadEdad = df.groupby([\"lesividad\", \"tramoEdad\"])[\"nVictimas\"].count().sort_values(ascending = False)\n",
    "lesividadEdad\n",
    "\n",
    "## Se puede que decir que para la mayoria de rangos de edad son heridos leves"
   ]
  },
  {
   "cell_type": "code",
   "execution_count": null,
   "metadata": {},
   "outputs": [],
   "source": []
  }
 ],
 "metadata": {
  "kernelspec": {
   "display_name": "Python 3",
   "language": "python",
   "name": "python3"
  },
  "language_info": {
   "codemirror_mode": {
    "name": "ipython",
    "version": 3
   },
   "file_extension": ".py",
   "mimetype": "text/x-python",
   "name": "python",
   "nbconvert_exporter": "python",
   "pygments_lexer": "ipython3",
   "version": "3.7.4"
  }
 },
 "nbformat": 4,
 "nbformat_minor": 2
}
